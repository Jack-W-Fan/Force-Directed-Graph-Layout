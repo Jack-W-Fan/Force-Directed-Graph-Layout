{
 "cells": [
  {
   "cell_type": "markdown",
   "metadata": {},
   "source": [
    "# Force-Directed Layout\n",
    "\n",
    "You will implement the Force-Directed Graph Layout algorithm from Fruchterman and Reingold, developed in the 1990s (at the University of Illinois at Urbana Champaign :). The original paper can be found at: https://onlinelibrary.wiley.com/doi/epdf/10.1002/spe.4380211102, but you should be able to complete this assignment without having read it. You should view the lecture on force directed layouts or at least read through the slides.\n",
    "\n",
    "The pseudocode for the Fruchterman-Reingold algorithm is also shown below:\n",
    "\n",
    "<img src=\"fdl.png\" width=480px>"
   ]
  },
  {
   "cell_type": "markdown",
   "metadata": {},
   "source": [
    "This assignment will use the NetworkX library, which is a Python package supporting data structures and functions for computations on graphs. You can find documentation at https://networkx.org/documentation/stable/reference/index.html.\n",
    "You do not need to read through the documentation before attempting the assignment. If you come across a function call you do not understand or need to see some examples of how to use the API, feel free to consult those webpages. Hopefully you can complete the assignment solely based on the explanations and code in this notebook.\n",
    "\n",
    "As usual, we will begin by importing the necessary modules."
   ]
  },
  {
   "cell_type": "code",
   "execution_count": 1,
   "metadata": {
    "scrolled": true
   },
   "outputs": [
    {
     "name": "stderr",
     "output_type": "stream",
     "text": [
      "Matplotlib created a temporary config/cache directory at /tmp/matplotlib-714ea4bi because the default path (/tmp/cache/matplotlib) is not a writable directory; it is highly recommended to set the MPLCONFIGDIR environment variable to a writable directory, in particular to speed up the import of Matplotlib and to better support multiprocessing.\n"
     ]
    }
   ],
   "source": [
    "%matplotlib inline\n",
    "import networkx as nx\n",
    "import matplotlib.pyplot as plt\n",
    "import numpy as np\n",
    "from random import random\n",
    "from numpy import arange"
   ]
  },
  {
   "cell_type": "markdown",
   "metadata": {
    "nbgrader": {
     "grade": false,
     "grade_id": "cell-d87a83c96dd60279",
     "locked": true,
     "schema_version": 3,
     "solution": false,
     "task": false
    }
   },
   "source": [
    "Now let's set the dimensions of our canvas. "
   ]
  },
  {
   "cell_type": "code",
   "execution_count": 2,
   "metadata": {},
   "outputs": [],
   "source": [
    "#grade (DO NOT DELETE THIS LINE)\n",
    "import math\n",
    "W = 1    # Width of the frame\n",
    "L = 1    # Length of the frame\n",
    "area = W*L"
   ]
  },
  {
   "cell_type": "markdown",
   "metadata": {
    "nbgrader": {
     "grade": false,
     "grade_id": "cell-1aba7ef07fd9b18e",
     "locked": true,
     "schema_version": 3,
     "solution": false,
     "task": false
    }
   },
   "source": [
    "## TO-DO: Calculate attractive force between two vertices\n",
    "Here is your first to-do. Complete the function below to calculate the magnitude of the attractive force between two vertices. \n",
    "\n",
    "The parameters of this function are:\n",
    "- `d`: the distance between the two vertices\n",
    "- `k`: the constant k = C*sqrt(area/# of vertices)"
   ]
  },
  {
   "cell_type": "code",
   "execution_count": 7,
   "metadata": {
    "nbgrader": {
     "grade": false,
     "grade_id": "f_a",
     "locked": false,
     "schema_version": 3,
     "solution": true,
     "task": false
    }
   },
   "outputs": [],
   "source": [
    "#grade (DO NOT DELETE THIS LINE)\n",
    "# Attractive force calculation\n",
    "def f_a(d,k):\n",
    "    return (d ** 2) / k"
   ]
  },
  {
   "cell_type": "code",
   "execution_count": 8,
   "metadata": {
    "nbgrader": {
     "grade": true,
     "grade_id": "f_a_test",
     "locked": true,
     "points": 5,
     "schema_version": 3,
     "solution": false,
     "task": false
    }
   },
   "outputs": [],
   "source": [
    "### Please DO NOT hard-code the answers as we will also be using hidden test cases when grading your submission.\n",
    "\n",
    "np.testing.assert_allclose(f_a(4,3), 5.33, atol=0.01,rtol=0)\n",
    "np.testing.assert_allclose(f_a(3,3.4), 2.65, atol=0.01,rtol=0)\n",
    "np.testing.assert_allclose(f_a(4,3.4), 4.71, atol=0.01,rtol=0)\n"
   ]
  },
  {
   "cell_type": "markdown",
   "metadata": {
    "nbgrader": {
     "grade": false,
     "grade_id": "cell-dd8edba910b42d69",
     "locked": true,
     "schema_version": 3,
     "solution": false,
     "task": false
    }
   },
   "source": [
    "## TO-DO: Calculate repulsive force between two vertices\n",
    "Complete the function below to calculate the magnitude of the repulsive force between two vertices. \n",
    "\n",
    "The parameters of this function are:\n",
    "- `d`: the distance between the two vertices\n",
    "- `k`: the constant k = C*sqrt(area/# of vertices)"
   ]
  },
  {
   "cell_type": "code",
   "execution_count": 9,
   "metadata": {
    "nbgrader": {
     "grade": false,
     "grade_id": "f_r",
     "locked": false,
     "schema_version": 3,
     "solution": true,
     "task": false
    }
   },
   "outputs": [],
   "source": [
    "#grade (DO NOT DELETE THIS LINE)\n",
    "# Repulsive force calculation\n",
    "def f_r(d,k):\n",
    "    return k ** 2 / d"
   ]
  },
  {
   "cell_type": "code",
   "execution_count": 10,
   "metadata": {
    "nbgrader": {
     "grade": true,
     "grade_id": "f_r_test",
     "locked": true,
     "points": 5,
     "schema_version": 3,
     "solution": false,
     "task": false
    }
   },
   "outputs": [],
   "source": [
    "### Please DO NOT hard-code the answers as we will also be using hidden test cases when grading your submission.\n",
    "\n",
    "np.testing.assert_allclose(f_r(4,3), 2.25, atol=0.01,rtol=0)\n",
    "np.testing.assert_allclose(f_r(3,3.4), 3.85, atol=0.01,rtol=0)\n",
    "np.testing.assert_allclose(f_r(3,4), 5.33, atol=0.01,rtol=0)\n"
   ]
  },
  {
   "cell_type": "markdown",
   "metadata": {
    "nbgrader": {
     "grade": false,
     "grade_id": "cell-a57ffa5e91068642",
     "locked": true,
     "schema_version": 3,
     "solution": false,
     "task": false
    }
   },
   "source": [
    "We have provided skeleton code for the rest of the algorithm below. To make things easier for you, we have provided the code to calculate the repulsive forces in the graph and to limit the maximum displacement. That means you only need to complete the function `calculate_attractive_forces()`, which is defined later.\n",
    "\n",
    "We use the NetworkX API (https://networkx.org/documentation/stable//release/api_1.9.html) to generate and represent a graph `G`. \n",
    "\n",
    "For a graph G, using the NetworkX API, you can\n",
    "\n",
    "1. Iterate over nodes with: `for v in G.nodes()`.\n",
    "2. Iterate over edges with v and u being keys to the two vertices that joined by the edge in G with: `for v,u in G.edges()`.\n",
    "3. Access the x coordinate of v with: `G.nodes[v]['x']`; Using the key 'y' will access the y coordinate.\n",
    "4. You should accumulate displacements from forces for a vertex v by accumulating the displacements in:\n",
    "\t`G.nodes[v]['dx']`\n",
    "\t`G.nodes[v]['dy']`\n",
    "    \n",
    "The parameters of `fruchterman_reingold()` are:\n",
    "- `G`: a NetworkX graph\n",
    "- `iteration`: the number of iterations\n",
    "\n",
    "This function will return `pos`, a dictionary of (vertex, position) pairs."
   ]
  },
  {
   "cell_type": "code",
   "execution_count": 11,
   "metadata": {
    "nbgrader": {
     "grade": false,
     "grade_id": "force_direct_layout",
     "locked": true,
     "schema_version": 3,
     "solution": false,
     "task": false
    }
   },
   "outputs": [],
   "source": [
    "# If you need to modify this function for debugging purposes, you can simply copy and paste this function into a new cell.\n",
    "def fruchterman_reingold(G,iteration):\n",
    "   \n",
    "    area = W*L\n",
    "    k = math.sqrt(area/nx.number_of_nodes(G))\n",
    "    \n",
    "    t = W/2\n",
    "    dt = t/(iteration+1)\n",
    "\n",
    "    for i in range(iteration):\n",
    "        #print(i, \" of \", iteration)\n",
    "        \n",
    "        # ALREADY COMPLETED. SEE CODE CELL BELOW.\n",
    "        G = calculate_repulsive_forces(G, k)\n",
    "       \n",
    "        # COMPLETE THIS FUNCTION LATER\n",
    "        G = calculate_attractive_forces(G, k)\n",
    "        \n",
    "        # Limit the maximum displacement to the temperature t\n",
    "        # and then prevent from being displaced outside frame\n",
    "        for v in G.nodes():\n",
    "            dx = G.nodes[v]['dx']\n",
    "            dy = G.nodes[v]['dy']\n",
    "            disp = math.sqrt(dx*dx+dy*dy)\n",
    "            if disp != 0:\n",
    "                d = min(disp,t)/disp\n",
    "                x = G.nodes[v]['x'] + dx*d\n",
    "                y = G.nodes[v]['y'] + dy*d\n",
    "                x =  min(W,max(0,x)) - W/2\n",
    "                y =  min(L,max(0,y)) - L/2\n",
    "                G.nodes[v]['x'] = min(math.sqrt(W*W/4-y*y),max(-math.sqrt(W*W/4-y*y),x)) + W/2\n",
    "                G.nodes[v]['y'] = min(math.sqrt(L*L/4-x*x),max(-math.sqrt(L*L/4-x*x),y)) + L/2\n",
    "\n",
    "        # Cooling\n",
    "        t -= dt\n",
    "\n",
    "    pos = {}\n",
    "    for v in G.nodes():\n",
    "        pos[v] = [G.nodes[v]['x'],G.nodes[v]['y']]\n",
    "        \n",
    "    plt.close()\n",
    "    plt.ylim([-0.1,1.1])\n",
    "    plt.xlim([-0.1,1.1])\n",
    "    plt.axis('off')\n",
    "        \n",
    "    return pos\n"
   ]
  },
  {
   "cell_type": "markdown",
   "metadata": {
    "nbgrader": {
     "grade": false,
     "grade_id": "cell-e58be87b58f81094",
     "locked": true,
     "schema_version": 3,
     "solution": false,
     "task": false
    }
   },
   "source": [
    "Below is the first part of the Fruchterman-Reingold algorithm, which will calculate the repulsive forces for an entire graph `G`.\n",
    "\n",
    "The parameters of `calculate_repulsive_forces` are:\n",
    "- `G`: a NetworkX graph\n",
    "- `k`: the constant k = C*sqrt(area/# of vertices)\n",
    "\n",
    "This function will return the updated graph `G` with accumulated displacements stored in `G.nodes[v]['dx']` and `G.nodes[v]['dy']`."
   ]
  },
  {
   "cell_type": "code",
   "execution_count": 12,
   "metadata": {
    "nbgrader": {
     "grade": false,
     "grade_id": "cell-7acf303ec5217a64",
     "locked": true,
     "schema_version": 3,
     "solution": false,
     "task": false
    }
   },
   "outputs": [],
   "source": [
    "def calculate_repulsive_forces(G, k):       \n",
    "    for v in G.nodes():\n",
    "        G.nodes[v]['dx'] = 0\n",
    "        G.nodes[v]['dy'] = 0\n",
    "        for u in G.nodes():\n",
    "            if v != u:\n",
    "                dx = G.nodes[v]['x'] - G.nodes[u]['x']\n",
    "                dy = G.nodes[v]['y'] - G.nodes[u]['y']\n",
    "                delta = math.sqrt(dx*dx+dy*dy)\n",
    "                if delta != 0:\n",
    "                    d = f_r(delta,k)/delta\n",
    "                    G.nodes[v]['dx'] += dx*d\n",
    "                    G.nodes[v]['dy'] += dy*d\n",
    "    return G"
   ]
  },
  {
   "cell_type": "markdown",
   "metadata": {
    "nbgrader": {
     "grade": false,
     "grade_id": "cell-14265cdd7d099d2f",
     "locked": true,
     "schema_version": 3,
     "solution": false,
     "task": false
    }
   },
   "source": [
    "## TO-DO: Calculate attractive forces\n",
    "Complete the function below to calculate the attractive forces for the entire graph `G`.\n",
    "\n",
    "The parameters of `calculate_attractive_forces` are:\n",
    "- `G`: a NetworkX graph\n",
    "- `k`: the constant k = C*sqrt(area/# of vertices)\n",
    "\n",
    "This function will return the updated graph `G` with accumulated displacements stored in `G.nodes[v]['dx']` and `G.nodes[v]['dy']`."
   ]
  },
  {
   "cell_type": "code",
   "execution_count": 15,
   "metadata": {
    "nbgrader": {
     "grade": false,
     "grade_id": "cell-7b1fece0d5c251cc",
     "locked": false,
     "schema_version": 3,
     "solution": true,
     "task": false
    }
   },
   "outputs": [],
   "source": [
    "#grade (DO NOT DELETE THIS LINE)\n",
    "def calculate_attractive_forces(G, k):\n",
    "    for v, u in G.edges():\n",
    "        dx = G.nodes[v]['x'] - G.nodes[u]['x']\n",
    "        dy = G.nodes[v]['y'] - G.nodes[u]['y']\n",
    "        delta = math.sqrt(dx*dx + dy*dy)\n",
    "        if delta != 0:\n",
    "            d = f_a(delta, k) / delta\n",
    "            disp_x = dx * d\n",
    "            disp_y = dy * d\n",
    "            G.nodes[v]['dx'] -= disp_x\n",
    "            G.nodes[v]['dy'] -= disp_y\n",
    "            G.nodes[u]['dx'] += disp_x\n",
    "            G.nodes[u]['dy'] += disp_y\n",
    "    return G"
   ]
  },
  {
   "cell_type": "code",
   "execution_count": 16,
   "metadata": {
    "nbgrader": {
     "grade": true,
     "grade_id": "force_direct_layout_test",
     "locked": true,
     "points": 15,
     "schema_version": 3,
     "solution": false,
     "task": false
    }
   },
   "outputs": [],
   "source": [
    "### Please DO NOT hard-code the answers as we will also be using hidden test cases when grading your submission.\n",
    "N = 5\n",
    "G = nx.cycle_graph(N)\n",
    "\n",
    "G.nodes[0]['x'] = 0.8168184889480099\n",
    "G.nodes[0]['y'] = 0.5311428534216505\n",
    "G.nodes[1]['x'] = 0.6654594641114429\n",
    "G.nodes[1]['y'] = 0.7842081286602168\n",
    "G.nodes[2]['x'] = 0.9229503471222402\n",
    "G.nodes[2]['y'] = 0.21495774524514744\n",
    "G.nodes[3]['x'] = 0.1353894225040374\n",
    "G.nodes[3]['y'] = 0.9657448268419787\n",
    "G.nodes[4]['x'] = 0.037138912320340944\n",
    "G.nodes[4]['y'] = 0.578448424341083\n",
    "\n",
    "for v in G.nodes():\n",
    "    G.nodes[v]['dx'] = 0\n",
    "    G.nodes[v]['dy'] = 0\n",
    "\n",
    "k = math.sqrt(area/nx.number_of_nodes(G))\n",
    "\n",
    "G_a = calculate_attractive_forces(G, k)\n",
    "\n",
    "np.testing.assert_allclose(G_a.nodes[0]['dx'], -1.46, atol=0.01,rtol=0)\n",
    "np.testing.assert_allclose(G_a.nodes[0]['dy'], 0.25, atol=0.01,rtol=0)\n",
    "np.testing.assert_allclose(G_a.nodes[1]['dx'], 0.46, atol=0.01,rtol=0)\n",
    "np.testing.assert_allclose(G_a.nodes[1]['dy'], -0.96, atol=0.01,rtol=0)\n",
    "np.testing.assert_allclose(G_a.nodes[2]['dx'], -2.28, atol=0.01,rtol=0)\n",
    "np.testing.assert_allclose(G_a.nodes[2]['dy'], 2.62, atol=0.01,rtol=0)\n"
   ]
  },
  {
   "cell_type": "markdown",
   "metadata": {},
   "source": [
    "Now, let's run the entire algorithm on the graph and draw the result."
   ]
  },
  {
   "cell_type": "code",
   "execution_count": 17,
   "metadata": {
    "nbgrader": {
     "grade": false,
     "grade_id": "force_direct_layout_test2",
     "locked": true,
     "schema_version": 3,
     "solution": false,
     "task": false
    },
    "scrolled": true
   },
   "outputs": [
    {
     "data": {
      "image/png": "[encoded data removed]",
      "text/plain": [
       "<Figure size 432x288 with 1 Axes>"
      ]
     },
     "metadata": {},
     "output_type": "display_data"
    }
   ],
   "source": [
    "pos = fruchterman_reingold(G,200)\n",
    "nx.draw_networkx(G,pos=pos,node_size=10,width=0.1,with_labels=False)"
   ]
  },
  {
   "cell_type": "markdown",
   "metadata": {
    "nbgrader": {
     "grade": false,
     "grade_id": "cell-e86fc31dc98a4f5e",
     "locked": true,
     "schema_version": 3,
     "solution": false,
     "task": false
    }
   },
   "source": [
    "Here is the image of a randomly generated cycle with 5 vertices:\n",
    "<img src=\"before.png\" width=360px>\n",
    "\n",
    "Here is the image of the graph processed by the Fruchterman-Reingold algorithm. If your code is working properly, you should see something like this.\n",
    "<img src=\"after.png\" width=360px>\n"
   ]
  },
  {
   "cell_type": "markdown",
   "metadata": {
    "nbgrader": {
     "grade": false,
     "grade_id": "cell-d3c97d2788d9a4ba",
     "locked": true,
     "schema_version": 3,
     "solution": false,
     "task": false
    }
   },
   "source": [
    "Finally, we will randomly generate a new graph with 30 vertices and run the Fruchterman-Reingold algorithm on that.\n",
    "\n",
    "Please note that generating the result image may take a couple seconds."
   ]
  },
  {
   "cell_type": "code",
   "execution_count": 18,
   "metadata": {
    "nbgrader": {
     "grade": false,
     "grade_id": "cell-f181178c35c6396b",
     "locked": true,
     "schema_version": 3,
     "solution": false,
     "task": false
    }
   },
   "outputs": [
    {
     "data": {
      "image/png": "[encoded data removed]",
      "text/plain": [
       "<Figure size 432x288 with 1 Axes>"
      ]
     },
     "metadata": {},
     "output_type": "display_data"
    }
   ],
   "source": [
    "G = nx.full_rary_tree(3,30)\n",
    "# initial position\n",
    "for v in nx.nodes(G):\n",
    "    G.nodes[v]['x'] = W*random()\n",
    "    G.nodes[v]['y'] = L*random()\n",
    "    \n",
    "pos = {}\n",
    "for v in G.nodes():\n",
    "    pos[v] = [G.nodes[v]['x'],G.nodes[v]['y']]\n",
    "    \n",
    "nx.draw_networkx(G,pos=pos,node_size=10,width=0.1,with_labels=False)"
   ]
  },
  {
   "cell_type": "code",
   "execution_count": 19,
   "metadata": {
    "nbgrader": {
     "grade": false,
     "grade_id": "cell-8fbd3fb52acab992",
     "locked": true,
     "schema_version": 3,
     "solution": false,
     "task": false
    }
   },
   "outputs": [
    {
     "data": {
      "image/png": "[encoded data removed]",
      "text/plain": [
       "<Figure size 432x288 with 1 Axes>"
      ]
     },
     "metadata": {},
     "output_type": "display_data"
    }
   ],
   "source": [
    "pos = fruchterman_reingold(G,1000)\n",
    "\n",
    "plt.close()\n",
    "plt.ylim([-0.1,1.1])\n",
    "plt.xlim([-0.1,1.1])\n",
    "plt.axis('off')\n",
    "nx.draw_networkx(G,pos=pos,node_size=10,width=0.1,with_labels=False)"
   ]
  },
  {
   "cell_type": "markdown",
   "metadata": {
    "nbgrader": {
     "grade": false,
     "grade_id": "cell-d576b11eb852a8ad",
     "locked": true,
     "schema_version": 3,
     "solution": false,
     "task": false
    }
   },
   "source": [
    "If your implementation is correct, you will see a more aesthetically-pleasing graph image, such as this one below (doesn't have to look the same as this one):\n",
    "<img src=\"result.png\" width=360px>\n"
   ]
  },
  {
   "cell_type": "code",
   "execution_count": null,
   "metadata": {},
   "outputs": [],
   "source": []
  }
 ],
 "metadata": {
  "celltoolbar": "Create Assignment",
  "kernelspec": {
   "display_name": "Python 3",
   "language": "python",
   "name": "python3"
  },
  "language_info": {
   "codemirror_mode": {
    "name": "ipython",
    "version": 3
   },
   "file_extension": ".py",
   "mimetype": "text/x-python",
   "name": "python",
   "nbconvert_exporter": "python",
   "pygments_lexer": "ipython3",
   "version": "3.8.6"
  }
 },
 "nbformat": 4,
 "nbformat_minor": 4
}
